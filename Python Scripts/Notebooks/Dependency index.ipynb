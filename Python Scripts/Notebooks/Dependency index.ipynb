{
 "cells": [
  {
   "cell_type": "code",
   "execution_count": 2,
   "metadata": {
    "collapsed": true
   },
   "outputs": [],
   "source": [
    "import numpy as np\n",
    "import pandas as pd\n",
    "import json"
   ]
  },
  {
   "cell_type": "code",
   "execution_count": 3,
   "metadata": {
    "collapsed": true
   },
   "outputs": [],
   "source": [
    "with open(r'D:\\GoogleDrive\\Hacker Civics\\Proyecto Spatial\\Proyecto en QGIS\\Barrios.geojson') as json_data:\n",
    "    d = json.load(json_data)\n",
    "    json_data.close()"
   ]
  },
  {
   "cell_type": "code",
   "execution_count": 4,
   "metadata": {
    "collapsed": true
   },
   "outputs": [],
   "source": [
    "tabla=pd.read_csv(r'D:\\GoogleDrive\\Hacker Civics\\Proyecto Spatial\\Proyecto en QGIS\\Tablas\\Padrón\\poblacion_grupos.csv',sep=';',dtype={'Product':str},engine=\"python\", encoding=\"latin_1\")"
   ]
  },
  {
   "cell_type": "code",
   "execution_count": 4,
   "metadata": {},
   "outputs": [
    {
     "name": "stderr",
     "output_type": "stream",
     "text": [
      "C:\\Users\\Jose\\Anaconda3\\lib\\site-packages\\ipykernel_launcher.py:1: DeprecationWarning: \n",
      ".ix is deprecated. Please use\n",
      ".loc for label based indexing or\n",
      ".iloc for positional indexing\n",
      "\n",
      "See the documentation here:\n",
      "http://pandas.pydata.org/pandas-docs/stable/indexing.html#ix-indexer-is-deprecated\n",
      "  \"\"\"Entry point for launching an IPython kernel.\n"
     ]
    },
    {
     "data": {
      "text/plain": [
       "'11'"
      ]
     },
     "execution_count": 4,
     "metadata": {},
     "output_type": "execute_result"
    }
   ],
   "source": [
    "tabla.ix[:,0].str.split(\" \")[0][0].replace('.','')"
   ]
  },
  {
   "cell_type": "code",
   "execution_count": 6,
   "metadata": {
    "collapsed": true
   },
   "outputs": [],
   "source": [
    "aux=[]\n",
    "for i in range(0,len(tabla.ix[:,0].str.split(\" \"))):\n",
    "    cod=tabla.ix[:,0].str.split(\" \")[i][0].replace('.','')\n",
    "    if len(cod)==2:\n",
    "        aux.append('0'+cod)\n",
    "    else:\n",
    "        aux.append(cod)"
   ]
  },
  {
   "cell_type": "code",
   "execution_count": 8,
   "metadata": {
    "collapsed": true
   },
   "outputs": [],
   "source": [
    "tabla.insert(0,'coddistbar',aux)"
   ]
  },
  {
   "cell_type": "code",
   "execution_count": 9,
   "metadata": {
    "collapsed": true
   },
   "outputs": [],
   "source": [
    "indice_dep=[]\n",
    "for i in range(0,len(tabla.ix[:,0])):\n",
    "    indice_dep.append((tabla.ix[i]['65 y más']+tabla.ix[i]['0-15'])/tabla.ix[i]['16-64'])"
   ]
  },
  {
   "cell_type": "code",
   "execution_count": 10,
   "metadata": {
    "collapsed": true
   },
   "outputs": [],
   "source": [
    "tabla.insert(1,'Indice dependencia',indice_dep)"
   ]
  },
  {
   "cell_type": "code",
   "execution_count": 31,
   "metadata": {
    "collapsed": true
   },
   "outputs": [],
   "source": [
    "for k in range(0,len(d['features'])):\n",
    "    cod=d['features'][k]['properties']['coddistbar']\n",
    "    d['features'][k]['properties']['inddep']=float(tabla[tabla['coddistbar']==cod]['Indice dependencia'])"
   ]
  },
  {
   "cell_type": "code",
   "execution_count": 32,
   "metadata": {
    "collapsed": true
   },
   "outputs": [],
   "source": [
    "for i in range(0,len(d['features'])):\n",
    "    if 0<=d['features'][i]['properties']['inddep']<0.25:\n",
    "        d['features'][i]['properties']['raster']=100\n",
    "    elif 0.25<=d['features'][i]['properties']['inddep']<0.5:\n",
    "        d['features'][i]['properties']['raster']=80\n",
    "    elif 0.5<=d['features'][i]['properties']['inddep']<0.75:\n",
    "        d['features'][i]['properties']['raster']=60\n",
    "    elif 0.75<=d['features'][i]['properties']['inddep']<1:\n",
    "        d['features'][i]['properties']['raster']=40\n",
    "    elif 1<=d['features'][i]['properties']['inddep']:\n",
    "        d['features'][i]['properties']['raster']=20  "
   ]
  },
  {
   "cell_type": "code",
   "execution_count": 43,
   "metadata": {
    "collapsed": true
   },
   "outputs": [],
   "source": [
    "archivo = open(r'G:\\GoogleDrive\\Hacker Civics\\Proyecto Spatial\\Proyecto en QGIS\\indice_dep.geojson','w')\n",
    "json.dump(d, archivo)\n",
    "archivo.close()"
   ]
  }
 ],
 "metadata": {
  "kernelspec": {
   "display_name": "Python 3",
   "language": "python",
   "name": "python3"
  },
  "language_info": {
   "codemirror_mode": {
    "name": "ipython",
    "version": 3
   },
   "file_extension": ".py",
   "mimetype": "text/x-python",
   "name": "python",
   "nbconvert_exporter": "python",
   "pygments_lexer": "ipython3",
   "version": "3.6.3"
  }
 },
 "nbformat": 4,
 "nbformat_minor": 2
}
