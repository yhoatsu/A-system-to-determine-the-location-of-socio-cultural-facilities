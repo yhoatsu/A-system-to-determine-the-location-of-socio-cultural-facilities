{
 "cells": [
  {
   "cell_type": "code",
   "execution_count": 1,
   "metadata": {
    "collapsed": true
   },
   "outputs": [],
   "source": [
    "import numpy as np\n",
    "import pandas as pd\n",
    "import json"
   ]
  },
  {
   "cell_type": "code",
   "execution_count": 2,
   "metadata": {
    "collapsed": true
   },
   "outputs": [],
   "source": [
    "with open(r'G:\\GoogleDrive\\Hacker Civics\\Proyecto Spatial\\Proyecto en QGIS\\barrios_equipamientos.geojson') as json_data:\n",
    "    d = json.load(json_data)\n",
    "    json_data.close()"
   ]
  },
  {
   "cell_type": "code",
   "execution_count": 5,
   "metadata": {
    "collapsed": true
   },
   "outputs": [],
   "source": [
    "equipamientos=[]\n",
    "for i in range(0,len(d['features'])):\n",
    "    equipamientos.append(d['features'][i]['properties']['equipamientos'])"
   ]
  },
  {
   "cell_type": "code",
   "execution_count": 8,
   "metadata": {
    "collapsed": true
   },
   "outputs": [],
   "source": [
    "intervalos=list(range(0,max(equipamientos),round(max(equipamientos)/5)))"
   ]
  },
  {
   "cell_type": "code",
   "execution_count": 9,
   "metadata": {},
   "outputs": [
    {
     "data": {
      "text/plain": [
       "[0, 23, 46, 69, 92, 115]"
      ]
     },
     "execution_count": 9,
     "metadata": {},
     "output_type": "execute_result"
    }
   ],
   "source": [
    "intervalos"
   ]
  },
  {
   "cell_type": "code",
   "execution_count": 11,
   "metadata": {
    "collapsed": true
   },
   "outputs": [],
   "source": [
    "for i in range(0,len(d['features'])):\n",
    "    if intervalos[0]<=d['features'][i]['properties']['equipamientos']<intervalos[1]:\n",
    "        d['features'][i]['properties']['raster']=20\n",
    "    elif intervalos[1]<=d['features'][i]['properties']['equipamientos']<intervalos[2]:\n",
    "        d['features'][i]['properties']['raster']=40\n",
    "    elif intervalos[2]<=d['features'][i]['properties']['equipamientos']<intervalos[3]:\n",
    "        d['features'][i]['properties']['raster']=60\n",
    "    elif intervalos[3]<=d['features'][i]['properties']['equipamientos']<intervalos[4]:\n",
    "        d['features'][i]['properties']['raster']=80\n",
    "    elif intervalos[4]<d['features'][i]['properties']['equipamientos']:\n",
    "        d['features'][i]['properties']['raster']=100  "
   ]
  },
  {
   "cell_type": "code",
   "execution_count": 13,
   "metadata": {
    "collapsed": true
   },
   "outputs": [],
   "source": [
    "archivo = open(r'G:\\GoogleDrive\\Hacker Civics\\Proyecto Spatial\\Proyecto en QGIS\\raster_barrios_equipamientos.geojson','w')\n",
    "json.dump(d, archivo)\n",
    "archivo.close()"
   ]
  }
 ],
 "metadata": {
  "kernelspec": {
   "display_name": "Python 3",
   "language": "python",
   "name": "python3"
  },
  "language_info": {
   "codemirror_mode": {
    "name": "ipython",
    "version": 3
   },
   "file_extension": ".py",
   "mimetype": "text/x-python",
   "name": "python",
   "nbconvert_exporter": "python",
   "pygments_lexer": "ipython3",
   "version": "3.6.3"
  }
 },
 "nbformat": 4,
 "nbformat_minor": 2
}
