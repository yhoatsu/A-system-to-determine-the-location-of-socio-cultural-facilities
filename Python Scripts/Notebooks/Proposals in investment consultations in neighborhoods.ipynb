{
 "cells": [
  {
   "cell_type": "code",
   "execution_count": 1,
   "metadata": {
    "collapsed": true
   },
   "outputs": [],
   "source": [
    "import numpy as np\n",
    "import pandas as pd\n",
    "import json"
   ]
  },
  {
   "cell_type": "code",
   "execution_count": 2,
   "metadata": {
    "collapsed": true
   },
   "outputs": [],
   "source": [
    "with open(r'G:\\GoogleDrive\\Hacker Civics\\Proyecto Spatial\\Proyecto en QGIS\\Barrios.geojson') as json_data:\n",
    "    d = json.load(json_data)\n",
    "    json_data.close()"
   ]
  },
  {
   "cell_type": "code",
   "execution_count": 6,
   "metadata": {
    "collapsed": true
   },
   "outputs": [],
   "source": [
    "tabla=pd.read_csv(r'G:\\GoogleDrive\\Hacker Civics\\Proyecto Spatial\\Proyecto en QGIS\\Tablas\\Decidim\\num_propuestas.csv',sep=';',dtype={'Product':str},engine=\"python\", encoding=\"latin_1\",header=None)"
   ]
  },
  {
   "cell_type": "code",
   "execution_count": 15,
   "metadata": {
    "collapsed": true
   },
   "outputs": [],
   "source": [
    "propuestas=[]\n",
    "for i in range(0,len(tabla.ix[:,0])):\n",
    "    propuestas.append(tabla.ix[i][2])"
   ]
  },
  {
   "cell_type": "code",
   "execution_count": 19,
   "metadata": {
    "collapsed": true
   },
   "outputs": [],
   "source": [
    "intervalos=list(range(0,max(propuestas),int(round(max(propuestas)/5))))"
   ]
  },
  {
   "cell_type": "code",
   "execution_count": 20,
   "metadata": {},
   "outputs": [
    {
     "data": {
      "text/plain": [
       "[0, 6, 12, 18, 24]"
      ]
     },
     "execution_count": 20,
     "metadata": {},
     "output_type": "execute_result"
    }
   ],
   "source": [
    "intervalos"
   ]
  },
  {
   "cell_type": "code",
   "execution_count": 37,
   "metadata": {
    "collapsed": true
   },
   "outputs": [],
   "source": [
    "for i in range(0,len(d['features'])):\n",
    "    cod=int(d['features'][i]['properties']['coddistbar'])\n",
    "    num_propuestas=int(tabla[tabla[0]==cod][2])\n",
    "    if intervalos[0]<=num_propuestas<intervalos[1]:\n",
    "        d['features'][i]['properties']['raster']=20\n",
    "    elif intervalos[1]<=num_propuestas<intervalos[2]:\n",
    "        d['features'][i]['properties']['raster']=40\n",
    "    elif intervalos[2]<=num_propuestas<intervalos[3]:\n",
    "        d['features'][i]['properties']['raster']=60\n",
    "    elif intervalos[3]<=num_propuestas<intervalos[4]:\n",
    "        d['features'][i]['properties']['raster']=80\n",
    "    elif intervalos[4]<num_propuestas:\n",
    "        d['features'][i]['properties']['raster']=100    "
   ]
  },
  {
   "cell_type": "code",
   "execution_count": 40,
   "metadata": {
    "collapsed": true
   },
   "outputs": [],
   "source": [
    "archivo = open(r'G:\\GoogleDrive\\Hacker Civics\\Proyecto Spatial\\Proyecto en QGIS\\propuestas_decidim.geojson','w')\n",
    "json.dump(d, archivo)\n",
    "archivo.close()"
   ]
  }
 ],
 "metadata": {
  "kernelspec": {
   "display_name": "Python 3",
   "language": "python",
   "name": "python3"
  },
  "language_info": {
   "codemirror_mode": {
    "name": "ipython",
    "version": 3
   },
   "file_extension": ".py",
   "mimetype": "text/x-python",
   "name": "python",
   "nbconvert_exporter": "python",
   "pygments_lexer": "ipython3",
   "version": "3.6.3"
  }
 },
 "nbformat": 4,
 "nbformat_minor": 2
}
