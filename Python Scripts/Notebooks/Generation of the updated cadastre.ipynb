{
 "cells": [
  {
   "cell_type": "code",
   "execution_count": 1,
   "metadata": {
    "collapsed": true
   },
   "outputs": [],
   "source": [
    "import json\n",
    "import numpy"
   ]
  },
  {
   "cell_type": "code",
   "execution_count": 15,
   "metadata": {
    "collapsed": true
   },
   "outputs": [],
   "source": [
    "with open(r'G:\\GoogleDrive\\Hacker Civics\\Proyecto Spatial\\Proyecto Spatial\\Pruebas\\parcelas_actuales.json') as json_data:\n",
    "    a = json.load(json_data)\n",
    "    json_data.close()"
   ]
  },
  {
   "cell_type": "code",
   "execution_count": 2,
   "metadata": {
    "collapsed": true
   },
   "outputs": [],
   "source": [
    "with open(r'G:\\GoogleDrive\\Hacker Civics\\Proyecto Spatial\\Proyecto Spatial\\Pruebas\\geo.geojson') as json_data:\n",
    "    d = json.load(json_data)\n",
    "    json_data.close()"
   ]
  },
  {
   "cell_type": "code",
   "execution_count": 3,
   "metadata": {
    "collapsed": true
   },
   "outputs": [],
   "source": [
    "with open(r'G:\\GoogleDrive\\Hacker Civics\\Proyecto Spatial\\Proyecto Spatial\\Pruebas\\parcelas_non_sense.json') as json_data:\n",
    "    c = json.load(json_data)\n",
    "    json_data.close()"
   ]
  },
  {
   "cell_type": "code",
   "execution_count": 4,
   "metadata": {
    "collapsed": true
   },
   "outputs": [],
   "source": [
    "with open(r'G:\\GoogleDrive\\Hacker Civics\\Proyecto Spatial\\Proyecto Spatial\\Pruebas\\reetiquetado.json') as json_data:\n",
    "    b = json.load(json_data)\n",
    "    json_data.close()"
   ]
  },
  {
   "cell_type": "code",
   "execution_count": 5,
   "metadata": {
    "collapsed": true
   },
   "outputs": [],
   "source": [
    "parcelas_dicc={}\n",
    "for items in a:\n",
    "    parcelas_dicc.update(items)"
   ]
  },
  {
   "cell_type": "code",
   "execution_count": 6,
   "metadata": {
    "collapsed": true
   },
   "outputs": [],
   "source": [
    "etiquetado_dicc={}\n",
    "for items in b:\n",
    "    etiquetado_dicc.update(items)"
   ]
  },
  {
   "cell_type": "code",
   "execution_count": 7,
   "metadata": {
    "collapsed": true
   },
   "outputs": [],
   "source": [
    "non_sense_dicc={}\n",
    "for items in c:\n",
    "    non_sense_dicc.update(items)"
   ]
  },
  {
   "cell_type": "code",
   "execution_count": 10,
   "metadata": {
    "collapsed": true
   },
   "outputs": [],
   "source": [
    "parcelas_dicc.update(non_sense_dicc)"
   ]
  },
  {
   "cell_type": "code",
   "execution_count": 11,
   "metadata": {
    "collapsed": true
   },
   "outputs": [],
   "source": [
    "dicc_reemplazado={}\n",
    "for k,v in parcelas_dicc.items():\n",
    "    dicc_aux={}\n",
    "    for i,j in v.items():\n",
    "        dicc_aux[etiquetado_dicc[i]]=j\n",
    "    dicc_reemplazado[k]=dicc_aux"
   ]
  },
  {
   "cell_type": "code",
   "execution_count": 12,
   "metadata": {
    "collapsed": true
   },
   "outputs": [],
   "source": [
    "categorias2=[]\n",
    "for k,v in dicc_reemplazado.items():\n",
    "    for i,j in v.items():\n",
    "        categorias2.append(i)"
   ]
  },
  {
   "cell_type": "code",
   "execution_count": 16,
   "metadata": {
    "collapsed": true
   },
   "outputs": [],
   "source": [
    "cat2=list(numpy.unique(categorias2))"
   ]
  },
  {
   "cell_type": "code",
   "execution_count": 17,
   "metadata": {
    "collapsed": true
   },
   "outputs": [],
   "source": [
    "parcelas_categoria2={}\n",
    "for elem in cat2:\n",
    "    parcelas_categoria2[elem]=[]"
   ]
  },
  {
   "cell_type": "code",
   "execution_count": 18,
   "metadata": {
    "collapsed": true
   },
   "outputs": [],
   "source": [
    "for k,v in dicc_reemplazado.items():\n",
    "    for i,j in v.items():\n",
    "        parcelas_categoria2[i].append(k)"
   ]
  },
  {
   "cell_type": "code",
   "execution_count": 19,
   "metadata": {
    "collapsed": true
   },
   "outputs": [],
   "source": [
    "dicc_maximo={}\n",
    "for k,v in dicc_reemplazado.items():\n",
    "    dicc_aux={}\n",
    "    for i,j in v.items():\n",
    "        dicc_aux[i]=max(j)\n",
    "    dicc_maximo[k]=dicc_aux"
   ]
  },
  {
   "cell_type": "code",
   "execution_count": 44,
   "metadata": {
    "collapsed": true
   },
   "outputs": [],
   "source": [
    "for k in range(0,len(d['features'])):\n",
    "    parcela=d['features'][k]['properties']['refparcela']\n",
    "    if parcela in dicc_maximo.keys():\n",
    "        d['features'][k]['properties'].update(dicc_maximo[parcela])\n",
    "        del d['features'][k]['properties']['refpar']\n",
    "        del d['features'][k]['properties']['refpla']\n",
    "        del d['features'][k]['properties']['codvia']\n",
    "        del d['features'][k]['properties']['dupli']\n",
    "        del d['features'][k]['properties']['construcci']\n",
    "        del d['features'][k]['properties']['antiguedad']\n",
    "        del d['features'][k]['properties']['reforma']\n",
    "        del d['features'][k]['properties']['tipo_refor']\n",
    "        del d['features'][k]['properties']['ficha_es']\n",
    "        del d['features'][k]['properties']['ficha_va']\n",
    "        del d['features'][k]['properties']['pob_0_14']\n",
    "        del d['features'][k]['properties']['pob_15_65']\n",
    "        del d['features'][k]['properties']['pob_66_mas']\n",
    "        del d['features'][k]['properties']['pob_total']\n",
    "        d['features'][k]['properties']['url']=d['features'][k]['properties']['url'][35:-31]"
   ]
  },
  {
   "cell_type": "code",
   "execution_count": null,
   "metadata": {
    "collapsed": true
   },
   "outputs": [],
   "source": [
    "del d['features'][k]['properties']['refpar']\n",
    "del d['features'][k]['properties']['refpla']\n",
    "del d['features'][k]['properties']['codvia']\n",
    "del d['features'][k]['properties']['dupli']\n",
    "del d['features'][k]['properties']['construcci']\n",
    "del d['features'][k]['properties']['antiguedad']\n",
    "del d['features'][k]['properties']['reforma']\n",
    "del d['features'][k]['properties']['tipo_refor']\n",
    "del d['features'][k]['properties']['ficha_es']\n",
    "del d['features'][k]['properties']['ficha_va']\n",
    "del d['features'][k]['properties']['pob_0_14']\n",
    "del d['features'][k]['properties']['pob_15_65']\n",
    "del d['features'][k]['properties']['pob_66_mas']\n",
    "del d['features'][k]['properties']['pob_total']\n",
    "d['features'][k]['properties']['url']=d['features'][k]['properties']['url'][35:-31]"
   ]
  },
  {
   "cell_type": "code",
   "execution_count": 46,
   "metadata": {
    "collapsed": true
   },
   "outputs": [],
   "source": [
    "archivo = open(r'G:\\GoogleDrive\\Hacker Civics\\Proyecto Spatial\\Proyecto Spatial\\Pruebas\\cadastre.geojson','w')\n",
    "json.dump(d, archivo)\n",
    "archivo.close()"
   ]
  }
 ],
 "metadata": {
  "kernelspec": {
   "display_name": "Python 3",
   "language": "python",
   "name": "python3"
  },
  "language_info": {
   "codemirror_mode": {
    "name": "ipython",
    "version": 3
   },
   "file_extension": ".py",
   "mimetype": "text/x-python",
   "name": "python",
   "nbconvert_exporter": "python",
   "pygments_lexer": "ipython3",
   "version": "3.6.3"
  }
 },
 "nbformat": 4,
 "nbformat_minor": 2
}
