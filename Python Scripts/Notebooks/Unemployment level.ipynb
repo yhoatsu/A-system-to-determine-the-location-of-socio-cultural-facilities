{
 "cells": [
  {
   "cell_type": "code",
   "execution_count": 1,
   "metadata": {
    "collapsed": true
   },
   "outputs": [],
   "source": [
    "import numpy as np\n",
    "import pandas as pd\n",
    "import json"
   ]
  },
  {
   "cell_type": "code",
   "execution_count": 2,
   "metadata": {
    "collapsed": true
   },
   "outputs": [],
   "source": [
    "with open(r'G:\\GoogleDrive\\Hacker Civics\\Proyecto Spatial\\Proyecto en QGIS\\Barrios.geojson') as json_data:\n",
    "    d = json.load(json_data)\n",
    "    json_data.close()"
   ]
  },
  {
   "cell_type": "code",
   "execution_count": 17,
   "metadata": {
    "collapsed": true
   },
   "outputs": [],
   "source": [
    "tabla=pd.read_csv(r'G:\\GoogleDrive\\Hacker Civics\\Proyecto Spatial\\Proyecto en QGIS\\Tablas\\Censo\\Inactividad.csv',sep=';',dtype={'Product':str},engine=\"python\", encoding=\"latin_1\",header=None)"
   ]
  },
  {
   "cell_type": "code",
   "execution_count": 18,
   "metadata": {},
   "outputs": [
    {
     "name": "stderr",
     "output_type": "stream",
     "text": [
      "C:\\Users\\Jose\\Anaconda3\\lib\\site-packages\\ipykernel_launcher.py:2: DeprecationWarning: \n",
      ".ix is deprecated. Please use\n",
      ".loc for label based indexing or\n",
      ".iloc for positional indexing\n",
      "\n",
      "See the documentation here:\n",
      "http://pandas.pydata.org/pandas-docs/stable/indexing.html#ix-indexer-is-deprecated\n",
      "  \n"
     ]
    }
   ],
   "source": [
    "aux=[]\n",
    "for i in range(0,len(tabla.ix[:,0].str.split(\" \"))):\n",
    "    cod=tabla.ix[:,0].str.split(\" \")[i][0].replace('.','')\n",
    "    if len(cod)==2:\n",
    "        aux.append('0'+cod)\n",
    "    else:\n",
    "        aux.append(cod)"
   ]
  },
  {
   "cell_type": "code",
   "execution_count": 19,
   "metadata": {
    "collapsed": true
   },
   "outputs": [],
   "source": [
    "tabla.insert(0,'coddistbar',aux)"
   ]
  },
  {
   "cell_type": "code",
   "execution_count": 21,
   "metadata": {
    "collapsed": true
   },
   "outputs": [],
   "source": [
    "indice=[]\n",
    "for i in range(0,len(tabla.ix[:,0])):\n",
    "    indice.append(float(tabla.ix[i][3]/tabla.ix[i][1]))"
   ]
  },
  {
   "cell_type": "code",
   "execution_count": 27,
   "metadata": {
    "collapsed": true
   },
   "outputs": [],
   "source": [
    "tabla.insert(1,'indice',indice)"
   ]
  },
  {
   "cell_type": "code",
   "execution_count": 25,
   "metadata": {
    "collapsed": true
   },
   "outputs": [],
   "source": [
    "intervalos=np.linspace(0,max(indice)-0.001,6)"
   ]
  },
  {
   "cell_type": "code",
   "execution_count": 26,
   "metadata": {},
   "outputs": [
    {
     "data": {
      "text/plain": [
       "array([ 0.        ,  0.09923375,  0.1984675 ,  0.29770125,  0.39693499,\n",
       "        0.49616874])"
      ]
     },
     "execution_count": 26,
     "metadata": {},
     "output_type": "execute_result"
    }
   ],
   "source": [
    "intervalos"
   ]
  },
  {
   "cell_type": "code",
   "execution_count": 60,
   "metadata": {
    "collapsed": true
   },
   "outputs": [],
   "source": [
    "for i in range(0,len(d['features'])):\n",
    "    cod=d['features'][i]['properties']['coddistbar']\n",
    "    num_votos=float(tabla[tabla['coddistbar']==cod]['indice'])\n",
    "    if intervalos[0]<=num_votos<intervalos[1]:\n",
    "        d['features'][i]['properties']['raster']=100\n",
    "    elif intervalos[1]<=num_votos<intervalos[2]:\n",
    "        d['features'][i]['properties']['raster']=80\n",
    "    elif intervalos[2]<=num_votos<intervalos[3]:\n",
    "        d['features'][i]['properties']['raster']=60\n",
    "    elif intervalos[3]<=num_votos<intervalos[4]:\n",
    "        d['features'][i]['properties']['raster']=40\n",
    "    elif intervalos[4]<=num_votos<intervalos[5]:\n",
    "        d['features'][i]['properties']['raster']=20\n",
    "    elif intervalos[5]<=num_votos:\n",
    "        d['features'][i]['properties']['raster']=0"
   ]
  },
  {
   "cell_type": "code",
   "execution_count": 53,
   "metadata": {
    "collapsed": true
   },
   "outputs": [],
   "source": [
    "tabla.loc[76,'indice']=np.mean(tabla['indice'])\n",
    "tabla.loc[83,'indice']=np.mean(tabla['indice'])"
   ]
  },
  {
   "cell_type": "code",
   "execution_count": 57,
   "metadata": {
    "collapsed": true
   },
   "outputs": [],
   "source": [
    "archivo = open(r'G:\\GoogleDrive\\Hacker Civics\\Proyecto Spatial\\Proyecto en QGIS\\desempleo.geojson','w')\n",
    "json.dump(d, archivo)\n",
    "archivo.close()"
   ]
  }
 ],
 "metadata": {
  "kernelspec": {
   "display_name": "Python 3",
   "language": "python",
   "name": "python3"
  },
  "language_info": {
   "codemirror_mode": {
    "name": "ipython",
    "version": 3
   },
   "file_extension": ".py",
   "mimetype": "text/x-python",
   "name": "python",
   "nbconvert_exporter": "python",
   "pygments_lexer": "ipython3",
   "version": "3.6.3"
  }
 },
 "nbformat": 4,
 "nbformat_minor": 2
}
