{
 "cells": [
  {
   "cell_type": "code",
   "execution_count": 1,
   "metadata": {
    "collapsed": true
   },
   "outputs": [],
   "source": [
    "import numpy as np\n",
    "import pandas as pd\n",
    "import json"
   ]
  },
  {
   "cell_type": "code",
   "execution_count": 2,
   "metadata": {
    "collapsed": true
   },
   "outputs": [],
   "source": [
    "with open(r'G:\\GoogleDrive\\Hacker Civics\\Proyecto Spatial\\Proyecto en QGIS\\Barrios.geojson') as json_data:\n",
    "    d = json.load(json_data)\n",
    "    json_data.close()"
   ]
  },
  {
   "cell_type": "code",
   "execution_count": 5,
   "metadata": {
    "collapsed": true
   },
   "outputs": [],
   "source": [
    "tabla=pd.read_csv(r'G:\\GoogleDrive\\Hacker Civics\\Proyecto Spatial\\Proyecto en QGIS\\Tablas\\Elecciones\\elecciones.csv',sep=';',dtype={'Product':str},engine=\"python\", encoding=\"latin_1\")"
   ]
  },
  {
   "cell_type": "code",
   "execution_count": 8,
   "metadata": {
    "collapsed": true
   },
   "outputs": [],
   "source": [
    "aux=[]\n",
    "for i in range(0,len(tabla.ix[:,0].str.split(\" \"))):\n",
    "    cod=tabla.ix[:,0].str.split(\" \")[i][0].replace('.','')\n",
    "    if len(cod)==2:\n",
    "        aux.append('0'+cod)\n",
    "    else:\n",
    "        aux.append(cod)"
   ]
  },
  {
   "cell_type": "code",
   "execution_count": 9,
   "metadata": {
    "collapsed": true
   },
   "outputs": [],
   "source": [
    "tabla.insert(0,'coddistbar',aux)"
   ]
  },
  {
   "cell_type": "code",
   "execution_count": 11,
   "metadata": {
    "collapsed": true
   },
   "outputs": [],
   "source": [
    "participacion=[]\n",
    "for i in range(0,len(tabla)):\n",
    "    participacion.append((tabla.ix[i]['Número de votos total']/tabla.ix[i]['Censo Electoral']))"
   ]
  },
  {
   "cell_type": "code",
   "execution_count": 12,
   "metadata": {
    "collapsed": true
   },
   "outputs": [],
   "source": [
    "tabla.insert(1,'participacion',participacion)"
   ]
  },
  {
   "cell_type": "code",
   "execution_count": 86,
   "metadata": {
    "collapsed": true
   },
   "outputs": [],
   "source": [
    "intervalos=np.linspace(0,max(participacion)-0.0001,5)"
   ]
  },
  {
   "cell_type": "code",
   "execution_count": 87,
   "metadata": {
    "collapsed": true
   },
   "outputs": [],
   "source": [
    "for i in range(0,len(d['features'])):\n",
    "    cod=d['features'][i]['properties']['coddistbar']\n",
    "    num_votos=float(tabla[tabla['coddistbar']==cod]['participacion'])\n",
    "    if intervalos[0]<=num_votos<intervalos[1]:\n",
    "        d['features'][i]['properties']['raster']=20\n",
    "    elif intervalos[1]<=num_votos<intervalos[2]:\n",
    "        d['features'][i]['properties']['raster']=40\n",
    "    elif intervalos[2]<=num_votos<intervalos[3]:\n",
    "        d['features'][i]['properties']['raster']=60\n",
    "    elif intervalos[3]<=num_votos<intervalos[4]:\n",
    "        d['features'][i]['properties']['raster']=80\n",
    "    elif intervalos[4]<num_votos:\n",
    "        d['features'][i]['properties']['raster']=100   "
   ]
  },
  {
   "cell_type": "code",
   "execution_count": 62,
   "metadata": {},
   "outputs": [
    {
     "data": {
      "text/plain": [
       "array([ 0.        ,  0.22593337,  0.45186675,  0.67780012,  0.90373349])"
      ]
     },
     "execution_count": 62,
     "metadata": {},
     "output_type": "execute_result"
    }
   ],
   "source": [
    "intervalos"
   ]
  },
  {
   "cell_type": "code",
   "execution_count": 88,
   "metadata": {
    "collapsed": true
   },
   "outputs": [],
   "source": [
    "raster=[]\n",
    "for i in range(len(d['features'])):\n",
    "    if d['features'][i]['properties']['coddistbar']!='175' and d['features'][i]['properties']['coddistbar']!='198':\n",
    "        raster.append(d['features'][i]['properties']['raster'])"
   ]
  },
  {
   "cell_type": "code",
   "execution_count": 89,
   "metadata": {
    "collapsed": true
   },
   "outputs": [],
   "source": [
    "media_raster=int(np.median(raster))"
   ]
  },
  {
   "cell_type": "code",
   "execution_count": 90,
   "metadata": {
    "collapsed": true
   },
   "outputs": [],
   "source": [
    "for i in range(len(d['features'])):\n",
    "    if d['features'][i]['properties']['coddistbar']=='175' or d['features'][i]['properties']['coddistbar']=='198':\n",
    "        d['features'][i]['properties']['raster']=media_raster"
   ]
  },
  {
   "cell_type": "code",
   "execution_count": 91,
   "metadata": {
    "collapsed": true
   },
   "outputs": [],
   "source": [
    "archivo = open(r'G:\\GoogleDrive\\Hacker Civics\\Proyecto Spatial\\Proyecto en QGIS\\votos_municipales.geojson','w')\n",
    "json.dump(d, archivo)\n",
    "archivo.close()"
   ]
  }
 ],
 "metadata": {
  "kernelspec": {
   "display_name": "Python 3",
   "language": "python",
   "name": "python3"
  },
  "language_info": {
   "codemirror_mode": {
    "name": "ipython",
    "version": 3
   },
   "file_extension": ".py",
   "mimetype": "text/x-python",
   "name": "python",
   "nbconvert_exporter": "python",
   "pygments_lexer": "ipython3",
   "version": "3.6.3"
  }
 },
 "nbformat": 4,
 "nbformat_minor": 2
}
